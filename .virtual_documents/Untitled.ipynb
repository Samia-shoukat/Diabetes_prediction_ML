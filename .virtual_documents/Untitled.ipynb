import numpy as np
import pandas as pd
from sklearn.preprocessing import StandardScaler
from sklearn.model_selection import train_test_split
from sklearn import svm
from sklearn.metrics import accuracy_score





db_dataset = pd.read_csv(r"E:\Machine Learning\projects\Diabetes prediction\diabetes.csv")



db_dataset.head(5)


db_dataset.shape


db_dataset.describe()


db_dataset['Outcome'].value_counts()


db_dataset.groupby('Outcome').mean()


# separating data and label
x = db_dataset.drop(columns = 'Outcome', axis=1)
y = db_dataset['Outcome']


print(x)


print(y)





scaler = StandardScaler()


scaler.fit(x)


standardized_data = scaler.transform(x)


print(standardized_data )


x = standardized_data 
y = db_dataset['Outcome']


print(x)
print(y)





x_train,x_test,y_train,y_test = train_test_split(x,y,test_size=0.2,random_state=2,stratify=y)


print(x.shape,x_train.shape,x_test.shape)





classifier = svm.SVC(kernel='linear')


# training the support vector machine classifier
classifier.fit(x_train,y_train)





# Accuracy Score on the training data
x_train_prediction = classifier.predict(x_train)
training_data_accuracy = accuracy_score(x_train_prediction,y_train)



print('Accuracy score of the training data : ', training_data_accuracy*100)


# Accuracy Score on the testing data
x_test_prediction = classifier.predict(x_test)
test_data_accuracy = accuracy_score(x_test_prediction,y_test)


print('Accuracy score of the test data : ', test_data_accuracy*100)





input_data = (4,110,92,0,0,37.6,0.191,30)
# changing into numpy_array
input_data_as_numpy_array = np.asarray(input_data)
# reshape the array as we are predicting for one instance
input_data_reshape = input_data_as_numpy_array.reshape(1,-1)

# standarize the input data
std_data = scaler.transform(input_data_reshape)
print(std_data)

prediction = classifier.predict(std_data)
print(prediction)

if (prediction[0] == 0):
    print('The person is not diabetic')
else:
    print('The person is diabetic')



