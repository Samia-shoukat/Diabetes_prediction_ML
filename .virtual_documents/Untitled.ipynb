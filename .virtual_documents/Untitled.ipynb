import numpy as np
import pandas as pd
from sklearn.preprocessing import StandardScaler
from sklearn.model_selection import train_test_split
from sklearn import svm
from sklearn.metrics import accuracy_score





db_dataset = pd.read_csv(r"E:\Machine Learning\projects\Diabetes prediction\diabetes.csv")



db_dataset.head(5)


db_dataset.shape


db_dataset.describe()


db_dataset['Outcome'].value_counts()


db_dataset.groupby('Outcome').mean()


# separating data and label
x = db_dataset.drop(columns = 'Outcome', axis=1)
y = db_dataset['Outcome']


print(x)


print(y)





scaler = StandardScaler()


scaler.fit(x)


standardized_data = scaler.transform(x)


print(standardized_data )


x = standardized_data 
y = db_dataset['Outcome']


print(x)
print(y)





x_train,x_test,y_train,y_test = train_test_split(x,y,test_size=0.2,random_state=2,stratify=y)


print(x.shape,x_train.shape,x_test.shape)



